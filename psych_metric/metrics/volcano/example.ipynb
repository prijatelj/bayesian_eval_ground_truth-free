{
 "cells": [
  {
   "cell_type": "code",
   "execution_count": 1,
   "metadata": {
    "ExecuteTime": {
     "end_time": "2019-04-29T16:55:33.681089Z",
     "start_time": "2019-04-29T16:55:32.078217Z"
    }
   },
   "outputs": [
    {
     "name": "stderr",
     "output_type": "stream",
     "text": [
      "/Users/melmccurrie/anaconda3/envs/metric_py3/lib/python3.6/site-packages/dask/config.py:168: YAMLLoadWarning: calling yaml.load() without Loader=... is deprecated, as the default Loader is unsafe. Please read https://msg.pyyaml.org/load for full details.\n",
      "  data = yaml.load(f.read()) or {}\n",
      "/Users/melmccurrie/anaconda3/envs/metric_py3/lib/python3.6/site-packages/distributed/config.py:20: YAMLLoadWarning: calling yaml.load() without Loader=... is deprecated, as the default Loader is unsafe. Please read https://msg.pyyaml.org/load for full details.\n",
      "  defaults = yaml.load(f)\n"
     ]
    }
   ],
   "source": [
    "import numpy as np\n",
    "import matplotlib.pyplot as plt\n",
    "from scipy.stats import multinomial\n",
    "import seaborn as sns\n",
    "import pymc3 as pm\n",
    "from tqdm import tqdm_notebook as tqdm\n",
    "import theano.tensor as tt\n",
    "import os"
   ]
  },
  {
   "cell_type": "code",
   "execution_count": 2,
   "metadata": {
    "ExecuteTime": {
     "end_time": "2019-04-29T16:55:35.110224Z",
     "start_time": "2019-04-29T16:55:35.019256Z"
    }
   },
   "outputs": [],
   "source": [
    "from psych_metric.datasets.volcano.dataset import SimulatedVolcanoMultinomial, SimulatedVolcanoMultinomialTemporal\n",
    "from psych_metric.metrics.volcano.metric import VolcanoMetricMultinomialEM, VolcanoMetricMultinomialMC, VolcanoMetricMultinomialHMM"
   ]
  },
  {
   "cell_type": "code",
   "execution_count": 3,
   "metadata": {
    "ExecuteTime": {
     "end_time": "2019-04-29T16:55:35.508457Z",
     "start_time": "2019-04-29T16:55:35.504261Z"
    }
   },
   "outputs": [],
   "source": [
    "ROOT = os.environ['ROOT']\n",
    "HERE = os.path.join(ROOT, 'psych_metric', 'metrics', 'volcano')\n",
    "np.set_printoptions(suppress=True)"
   ]
  },
  {
   "cell_type": "markdown",
   "metadata": {},
   "source": [
    "# Single Step"
   ]
  },
  {
   "cell_type": "code",
   "execution_count": 4,
   "metadata": {
    "ExecuteTime": {
     "end_time": "2019-04-29T16:55:36.291475Z",
     "start_time": "2019-04-29T16:55:36.282553Z"
    }
   },
   "outputs": [],
   "source": [
    "posterior = np.array([\n",
    "    [0.8, 0.1, 0.1],\n",
    "    [0.2, 0.1, 0.7],\n",
    "    [0.1, 0.8, 0.1],\n",
    "])\n",
    "prior = np.array([0.5, 0.3, 0.2])\n",
    "\n",
    "ds = SimulatedVolcanoMultinomial(\n",
    "    posterior=posterior,\n",
    "    prior=prior,\n",
    "    n_annos=[15,15],\n",
    "    N=500\n",
    ")"
   ]
  },
  {
   "cell_type": "markdown",
   "metadata": {},
   "source": [
    "### Use EM to Recover the Parameters"
   ]
  },
  {
   "cell_type": "code",
   "execution_count": 5,
   "metadata": {
    "ExecuteTime": {
     "end_time": "2019-04-29T16:55:38.147346Z",
     "start_time": "2019-04-29T16:55:38.143079Z"
    }
   },
   "outputs": [],
   "source": [
    "Metric = VolcanoMetricMultinomialEM(n_classes=3)"
   ]
  },
  {
   "cell_type": "code",
   "execution_count": 6,
   "metadata": {
    "ExecuteTime": {
     "end_time": "2019-04-29T16:55:38.837902Z",
     "start_time": "2019-04-29T16:55:38.828488Z"
    }
   },
   "outputs": [
    {
     "name": "stdout",
     "output_type": "stream",
     "text": [
      "Divergence: 0.3701039401737532\n",
      "Divergence: 0.0\n"
     ]
    }
   ],
   "source": [
    "Metric.train(ds.X)"
   ]
  },
  {
   "cell_type": "code",
   "execution_count": 7,
   "metadata": {
    "ExecuteTime": {
     "end_time": "2019-04-29T16:55:39.369255Z",
     "start_time": "2019-04-29T16:55:39.002549Z"
    }
   },
   "outputs": [
    {
     "data": {
      "image/png": "[encoded data removed]",
      "text/plain": [
       "<Figure size 1080x360 with 1 Axes>"
      ]
     },
     "metadata": {
      "needs_background": "light"
     },
     "output_type": "display_data"
    },
    {
     "data": {
      "image/png": "[encoded data removed]",
      "text/plain": [
       "<Figure size 1080x360 with 3 Axes>"
      ]
     },
     "metadata": {
      "needs_background": "light"
     },
     "output_type": "display_data"
    }
   ],
   "source": [
    "Metric.plot_prior()\n",
    "Metric.plot_posterior()"
   ]
  },
  {
   "cell_type": "markdown",
   "metadata": {},
   "source": [
    "### Use Monte Carlo Sampling to recover Parameters"
   ]
  },
  {
   "cell_type": "code",
   "execution_count": 8,
   "metadata": {
    "ExecuteTime": {
     "end_time": "2019-04-29T16:55:41.545177Z",
     "start_time": "2019-04-29T16:55:41.542532Z"
    }
   },
   "outputs": [],
   "source": [
    "# Metric = VolcanoMetricMultinomialMC(n_classes=3)"
   ]
  },
  {
   "cell_type": "code",
   "execution_count": 9,
   "metadata": {
    "ExecuteTime": {
     "end_time": "2019-04-29T16:55:41.753044Z",
     "start_time": "2019-04-29T16:55:41.750389Z"
    }
   },
   "outputs": [],
   "source": [
    "# Metric.train(ds.X)"
   ]
  },
  {
   "cell_type": "code",
   "execution_count": 10,
   "metadata": {
    "ExecuteTime": {
     "end_time": "2019-04-29T16:55:41.911541Z",
     "start_time": "2019-04-29T16:55:41.908785Z"
    }
   },
   "outputs": [],
   "source": [
    "# Metric.plot_posterior_pymc3()"
   ]
  },
  {
   "cell_type": "markdown",
   "metadata": {},
   "source": [
    "# Temporal"
   ]
  },
  {
   "cell_type": "code",
   "execution_count": 11,
   "metadata": {
    "ExecuteTime": {
     "end_time": "2019-04-29T17:25:30.933547Z",
     "start_time": "2019-04-29T17:25:30.895933Z"
    }
   },
   "outputs": [
    {
     "data": {
      "application/vnd.jupyter.widget-view+json": {
       "model_id": "372b67746f384077aa37bd45916bf54c",
       "version_major": 2,
       "version_minor": 0
      },
      "text/plain": [
       "HBox(children=(IntProgress(value=0, max=10), HTML(value='')))"
      ]
     },
     "metadata": {},
     "output_type": "display_data"
    },
    {
     "name": "stdout",
     "output_type": "stream",
     "text": [
      "\n"
     ]
    }
   ],
   "source": [
    "posterior = np.array([\n",
    "    [0.8, 0.1, 0.1],\n",
    "    [0.2, 0.1, 0.7],\n",
    "    [0.1, 0.8, 0.1],\n",
    "])\n",
    "prior = np.array([0.5, 0.3, 0.2])\n",
    "transitions = np.array([\n",
    "    [0.9, 0.05, 0.05],\n",
    "    [0.05, 0.9, 0.05],\n",
    "    [0.05, 0.05, 0.9],\n",
    "])\n",
    "\n",
    "ds = SimulatedVolcanoMultinomialTemporal(\n",
    "    posterior=posterior,\n",
    "    prior=prior,\n",
    "    transitions=transitions,\n",
    "    n_annos=[15,30],\n",
    "    n_steps=[2,3],\n",
    "    N=10\n",
    ")"
   ]
  },
  {
   "cell_type": "code",
   "execution_count": 16,
   "metadata": {},
   "outputs": [],
   "source": [
    "# For EM have to write custom HMMLearn module because it only accepts one multinomial sample per step instead of a multinomial distribution"
   ]
  },
  {
   "cell_type": "code",
   "execution_count": 13,
   "metadata": {},
   "outputs": [],
   "source": [
    "# Metric = VolcanoMetricMultinomialHMM(n_classes=3)"
   ]
  },
  {
   "cell_type": "code",
   "execution_count": 17,
   "metadata": {},
   "outputs": [],
   "source": [
    "# Metric.train(ds.X)"
   ]
  },
  {
   "cell_type": "code",
   "execution_count": 18,
   "metadata": {
    "ExecuteTime": {
     "start_time": "2019-04-29T16:10:39.935Z"
    },
    "scrolled": false
   },
   "outputs": [],
   "source": [
    "# Metric.plot_posterior_pymc3()"
   ]
  },
  {
   "cell_type": "markdown",
   "metadata": {},
   "source": [
    "# Saving a Model"
   ]
  },
  {
   "cell_type": "code",
   "execution_count": null,
   "metadata": {},
   "outputs": [],
   "source": [
    "Metric.save(os.path.join(HERE, 'model.json'))"
   ]
  },
  {
   "cell_type": "markdown",
   "metadata": {},
   "source": [
    "# Load Saved Model"
   ]
  },
  {
   "cell_type": "code",
   "execution_count": null,
   "metadata": {},
   "outputs": [],
   "source": [
    "Metric = VolcanoMetricMultinomialEM(save_file=os.path.join(HERE, 'model.json'))"
   ]
  },
  {
   "cell_type": "markdown",
   "metadata": {},
   "source": [
    "# Analyze New Data"
   ]
  },
  {
   "cell_type": "code",
   "execution_count": null,
   "metadata": {},
   "outputs": [],
   "source": [
    "posterior = np.array([\n",
    "    [0.8, 0.1, 0.1],\n",
    "    [0.2, 0.1, 0.7],\n",
    "    [0.1, 0.8, 0.1],\n",
    "])\n",
    "prior = np.array([0.5, 0.3, 0.2])\n",
    "\n",
    "ds = SimulatedVolcanoMultinomial(\n",
    "    posterior=posterior,\n",
    "    prior=prior,\n",
    "    n_annos=[15,15],\n",
    "    N=5\n",
    ")\n",
    "\n",
    "new_data = ds.X"
   ]
  },
  {
   "cell_type": "code",
   "execution_count": null,
   "metadata": {},
   "outputs": [],
   "source": [
    "new_data"
   ]
  },
  {
   "cell_type": "code",
   "execution_count": null,
   "metadata": {},
   "outputs": [],
   "source": [
    "# calculate prob of each class\n",
    "Metric.predict_proba(new_data)"
   ]
  },
  {
   "cell_type": "code",
   "execution_count": null,
   "metadata": {},
   "outputs": [],
   "source": [
    "# calculate which class (argmax of probs)\n",
    "Metric.predict(new_data)"
   ]
  },
  {
   "cell_type": "code",
   "execution_count": null,
   "metadata": {},
   "outputs": [],
   "source": []
  }
 ],
 "metadata": {
  "kernelspec": {
   "display_name": "metric_py3",
   "language": "python",
   "name": "metric_py3"
  },
  "language_info": {
   "codemirror_mode": {
    "name": "ipython",
    "version": 3
   },
   "file_extension": ".py",
   "mimetype": "text/x-python",
   "name": "python",
   "nbconvert_exporter": "python",
   "pygments_lexer": "ipython3",
   "version": "3.6.8"
  },
  "toc": {
   "base_numbering": 1,
   "nav_menu": {},
   "number_sections": true,
   "sideBar": true,
   "skip_h1_title": false,
   "title_cell": "Table of Contents",
   "title_sidebar": "Contents",
   "toc_cell": false,
   "toc_position": {},
   "toc_section_display": true,
   "toc_window_display": false
  },
  "varInspector": {
   "cols": {
    "lenName": 16,
    "lenType": 16,
    "lenVar": 40
   },
   "kernels_config": {
    "python": {
     "delete_cmd_postfix": "",
     "delete_cmd_prefix": "del ",
     "library": "var_list.py",
     "varRefreshCmd": "print(var_dic_list())"
    },
    "r": {
     "delete_cmd_postfix": ") ",
     "delete_cmd_prefix": "rm(",
     "library": "var_list.r",
     "varRefreshCmd": "cat(var_dic_list()) "
    }
   },
   "types_to_exclude": [
    "module",
    "function",
    "builtin_function_or_method",
    "instance",
    "_Feature"
   ],
   "window_display": false
  }
 },
 "nbformat": 4,
 "nbformat_minor": 2
}
