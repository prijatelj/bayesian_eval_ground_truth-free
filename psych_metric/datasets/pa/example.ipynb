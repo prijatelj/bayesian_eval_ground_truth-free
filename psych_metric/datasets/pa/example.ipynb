{
 "cells": [
  {
   "cell_type": "code",
   "execution_count": 1,
   "metadata": {
    "ExecuteTime": {
     "end_time": "2019-04-23T16:33:21.455278Z",
     "start_time": "2019-04-23T16:33:21.094558Z"
    }
   },
   "outputs": [],
   "source": [
    "import matplotlib.pyplot as plt\n",
    "import numpy as np\n",
    "import ast\n",
    "import pandas as pd\n",
    "import os"
   ]
  },
  {
   "cell_type": "code",
   "execution_count": 2,
   "metadata": {
    "ExecuteTime": {
     "end_time": "2019-04-23T16:33:21.459372Z",
     "start_time": "2019-04-23T16:33:21.456969Z"
    }
   },
   "outputs": [],
   "source": [
    "HERE = os.path.join(os.environ['ROOT'], 'psych_metric', 'datasets', 'pa')"
   ]
  },
  {
   "cell_type": "code",
   "execution_count": 3,
   "metadata": {
    "ExecuteTime": {
     "end_time": "2019-04-23T16:33:21.466324Z",
     "start_time": "2019-04-23T16:33:21.461652Z"
    }
   },
   "outputs": [],
   "source": [
    "from psych_metric.datasets.pa.dataset import PA, PA_sequence"
   ]
  },
  {
   "cell_type": "markdown",
   "metadata": {},
   "source": [
    "# Single Frame"
   ]
  },
  {
   "cell_type": "code",
   "execution_count": 11,
   "metadata": {
    "ExecuteTime": {
     "end_time": "2019-04-23T16:33:52.279503Z",
     "start_time": "2019-04-23T16:33:51.540774Z"
    }
   },
   "outputs": [],
   "source": [
    "ds = PA(dataset='3')"
   ]
  },
  {
   "cell_type": "code",
   "execution_count": 12,
   "metadata": {
    "ExecuteTime": {
     "end_time": "2019-04-23T16:33:52.359873Z",
     "start_time": "2019-04-23T16:33:52.355365Z"
    }
   },
   "outputs": [
    {
     "data": {
      "text/plain": [
       "{'s3_urls': \"[u'/pedestrians/pedestrian_sequences/la_012518_7_caltech/1842.jpg', u'/pedestrians/pedestrian_sequences/la_012518_7_caltech/1845.jpg', u'/pedestrians/pedestrian_sequences/la_012518_7_caltech/1848.jpg']\",\n",
       " 'blurred_image_url': 'im_415-156-30-61_la_012518_7_caltech_1842_low.gif',\n",
       " 'video_id': 'la_012518_7_caltech',\n",
       " 'nas_data_url': \"['None', 'None', 'None']\",\n",
       " 'boxes': '[[415, 156, 30, 61], [417, 156, 32, 60], [430, 157, 32, 58]]',\n",
       " 'experiment_id': 3,\n",
       " 'mean_score': 3.896551724137931,\n",
       " 'std_score': 1.2413793103448276,\n",
       " 'num_responses': 29,\n",
       " 'mean_response_time': 3761.7586206896553,\n",
       " 'score_array': '[4, 4, 5, 4, 5, 3, 5, 5, 1, 5, 3, 3, 4, 2, 5, 5, 5, 1, 5, 3, 5, 5, 4, 3, 3, 5, 4, 5, 2]',\n",
       " 'response_times': '[7147.0, 1211.0, 1747.0, 5114.0, 3499.0, 4487.0, 665.0, 4082.0, 2275.0, 494.0, 4338.0, 3105.0, 2401.0, 1180.0, 1522.0, 1566.0, 883.0, 2048.0, 4398.0, 385.0, 2929.0, 539.0, 3211.0, 4288.0, 4631.0, 4462.0, 2024.0, 20339.0, 14121.0]',\n",
       " 'test_set': False,\n",
       " 'generated_stimuli_gif_id': 101176,\n",
       " 'drivenet_boxes': \"['None', 'None', 'None']\",\n",
       " 'metadata': \"{u'road_type': u'city', u'time_of_day': u'day', u'state': u'driving', u'weather': u'cloudy'}\",\n",
       " 'special_type': nan,\n",
       " 'tracked_sequence_id': 729696,\n",
       " 'multinomial': array([ 2,  2,  6,  6, 13])}"
      ]
     },
     "execution_count": 12,
     "metadata": {},
     "output_type": "execute_result"
    }
   ],
   "source": [
    "ds[0]"
   ]
  },
  {
   "cell_type": "markdown",
   "metadata": {},
   "source": [
    "# Multiple Frames"
   ]
  },
  {
   "cell_type": "code",
   "execution_count": 13,
   "metadata": {
    "ExecuteTime": {
     "end_time": "2019-04-23T16:33:55.250664Z",
     "start_time": "2019-04-23T16:33:54.131207Z"
    }
   },
   "outputs": [],
   "source": [
    "ds = PA_sequence(dataset='3', date='090618')"
   ]
  },
  {
   "cell_type": "code",
   "execution_count": 14,
   "metadata": {
    "ExecuteTime": {
     "end_time": "2019-04-23T16:33:56.059244Z",
     "start_time": "2019-04-23T16:33:56.051751Z"
    }
   },
   "outputs": [
    {
     "data": {
      "text/plain": [
       "{'video_id': 'sanantonio_103017_76_sid',\n",
       " 'frame_numbers': array([1389, 1392, 1395]),\n",
       " 'boxes': '[[1250, 674, 33, 111], [1262, 672, 33, 109], [1279, 673, 34, 109]]',\n",
       " 'scores_array': array([[4, 4, 5, 4, 4, 5, 4, 3, 5, 3, 5, 5, 5, 3, 5, 5, 4, 4, 5, 5, 5],\n",
       "        [4, 4, 5, 4, 4, 5, 4, 3, 5, 3, 5, 5, 5, 3, 5, 5, 4, 4, 5, 5, 5],\n",
       "        [4, 4, 5, 4, 4, 5, 4, 3, 5, 3, 5, 5, 5, 3, 5, 5, 4, 4, 5, 5, 5]]),\n",
       " 'sequence_frame_num_array': '[1, 4, 7]',\n",
       " 'response_times_array': '[[1527.0, 1859.0, 980.0, 3910.0, 1398.0, 1183.0, 1745.0, 5039.0, 1656.0, 1449.0, 1418.0, 1764.0, 3780.0, 1390.0, 3499.0, 1173.0, 7564.0, 2200.0, 1229.0, 1233.0, 1358.0], [1527.0, 1859.0, 980.0, 3910.0, 1398.0, 1183.0, 1745.0, 5039.0, 1656.0, 1449.0, 1418.0, 1764.0, 3780.0, 1390.0, 3499.0, 1173.0, 7564.0, 2200.0, 1229.0, 1233.0, 1358.0], [1527.0, 1859.0, 980.0, 3910.0, 1398.0, 1183.0, 1745.0, 5039.0, 1656.0, 1449.0, 1418.0, 1764.0, 3780.0, 1390.0, 3499.0, 1173.0, 7564.0, 2200.0, 1229.0, 1233.0, 1358.0]]',\n",
       " 'experiment_id': 3,\n",
       " 'tracked_sequence_id': 1048586,\n",
       " 'test_set': False,\n",
       " 'metadata': \"{u'road_type': u'city', u'time_of_day': u'day', u'state': u'driving', u'weather': u'sunny'}\",\n",
       " 'special_type': 'SpecialTrackedSequenceType.did_not_cross',\n",
       " 'stage': 'train',\n",
       " 'city': 'san_antonio',\n",
       " 'annotation_set_name': 'dynamic_dense',\n",
       " 'owner': 'pa',\n",
       " 'multinomials': [array([ 0,  0,  3,  7, 11]),\n",
       "  array([ 0,  0,  3,  7, 11]),\n",
       "  array([ 0,  0,  3,  7, 11])]}"
      ]
     },
     "execution_count": 14,
     "metadata": {},
     "output_type": "execute_result"
    }
   ],
   "source": [
    "ds[0]"
   ]
  },
  {
   "cell_type": "code",
   "execution_count": null,
   "metadata": {},
   "outputs": [],
   "source": []
  }
 ],
 "metadata": {
  "kernelspec": {
   "display_name": "metric_py3",
   "language": "python",
   "name": "metric_py3"
  },
  "language_info": {
   "codemirror_mode": {
    "name": "ipython",
    "version": 3
   },
   "file_extension": ".py",
   "mimetype": "text/x-python",
   "name": "python",
   "nbconvert_exporter": "python",
   "pygments_lexer": "ipython3",
   "version": "3.6.8"
  },
  "toc": {
   "base_numbering": 1,
   "nav_menu": {},
   "number_sections": true,
   "sideBar": true,
   "skip_h1_title": false,
   "title_cell": "Table of Contents",
   "title_sidebar": "Contents",
   "toc_cell": false,
   "toc_position": {},
   "toc_section_display": true,
   "toc_window_display": false
  },
  "varInspector": {
   "cols": {
    "lenName": 16,
    "lenType": 16,
    "lenVar": 40
   },
   "kernels_config": {
    "python": {
     "delete_cmd_postfix": "",
     "delete_cmd_prefix": "del ",
     "library": "var_list.py",
     "varRefreshCmd": "print(var_dic_list())"
    },
    "r": {
     "delete_cmd_postfix": ") ",
     "delete_cmd_prefix": "rm(",
     "library": "var_list.r",
     "varRefreshCmd": "cat(var_dic_list()) "
    }
   },
   "types_to_exclude": [
    "module",
    "function",
    "builtin_function_or_method",
    "instance",
    "_Feature"
   ],
   "window_display": false
  }
 },
 "nbformat": 4,
 "nbformat_minor": 2
}
