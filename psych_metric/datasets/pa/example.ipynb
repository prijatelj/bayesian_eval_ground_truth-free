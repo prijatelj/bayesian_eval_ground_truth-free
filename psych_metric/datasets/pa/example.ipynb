{
 "cells": [
  {
   "cell_type": "code",
   "execution_count": 2,
   "metadata": {
    "ExecuteTime": {
     "end_time": "2019-04-18T14:09:08.823932Z",
     "start_time": "2019-04-18T14:09:08.819504Z"
    }
   },
   "outputs": [],
   "source": [
    "import matplotlib.pyplot as plt\n",
    "import numpy as np\n",
    "import ast"
   ]
  },
  {
   "cell_type": "code",
   "execution_count": 3,
   "metadata": {
    "ExecuteTime": {
     "end_time": "2019-04-18T14:09:10.285515Z",
     "start_time": "2019-04-18T14:09:10.122931Z"
    }
   },
   "outputs": [],
   "source": [
    "from psych_metric.datasets.pa.dataset import PA"
   ]
  },
  {
   "cell_type": "code",
   "execution_count": 4,
   "metadata": {
    "ExecuteTime": {
     "end_time": "2019-04-18T14:09:11.234738Z",
     "start_time": "2019-04-18T14:09:10.504780Z"
    }
   },
   "outputs": [],
   "source": [
    "ds = PA(dataset='3')"
   ]
  },
  {
   "cell_type": "code",
   "execution_count": 5,
   "metadata": {
    "ExecuteTime": {
     "end_time": "2019-04-18T14:09:11.930037Z",
     "start_time": "2019-04-18T14:09:11.921292Z"
    }
   },
   "outputs": [
    {
     "data": {
      "text/plain": [
       "{'s3_urls': \"[u'/pedestrians/pedestrian_sequences/la_012518_7_caltech/1845.jpg', u'/pedestrians/pedestrian_sequences/la_012518_7_caltech/1848.jpg', u'/pedestrians/pedestrian_sequences/la_012518_7_caltech/1851.jpg']\",\n",
       " 'blurred_image_url': 'im_417-156-32-60_la_012518_7_caltech_1845_low.gif',\n",
       " 'video_id': 'la_012518_7_caltech',\n",
       " 'nas_data_url': \"['None', 'None', 'None']\",\n",
       " 'boxes': '[[417, 156, 32, 60], [430, 157, 32, 58], [441, 157, 35, 57]]',\n",
       " 'experiment_id': 3,\n",
       " 'mean_score': 4.03125,\n",
       " 'std_score': 1.1587810136086971,\n",
       " 'num_responses': 32,\n",
       " 'mean_response_time': 3843.4375,\n",
       " 'score_array': '[4, 5, 5, 4, 4, 5, 5, 5, 5, 3, 3, 5, 5, 5, 1, 3, 4, 1, 5, 3, 4, 4, 5, 3, 5, 4, 2, 4, 3, 5, 5, 5]',\n",
       " 'response_times': '[4931.0, 1549.0, 1171.0, 5894.0, 2667.0, 2623.0, 28115.0, 996.0, 804.0, 434.0, 2408.0, 1465.0, 2329.0, 3973.0, 5447.0, 6440.0, 5118.0, 1937.0, 2624.0, 2519.0, 3241.0, 3066.0, 3382.0, 9040.0, 948.0, 3408.0, 2516.0, 442.0, 4561.0, 1776.0, 2348.0, 4818.0]',\n",
       " 'test_set': False,\n",
       " 'generated_stimuli_gif_id': 101177,\n",
       " 'drivenet_boxes': \"['None', 'None', 'None']\",\n",
       " 'metadata': \"{u'road_type': u'city', u'time_of_day': u'day', u'state': u'driving', u'weather': u'cloudy'}\",\n",
       " 'special_type': nan,\n",
       " 'tracked_sequence_id': 729696,\n",
       " 'multinomial': array([ 2,  1,  6,  8, 15])}"
      ]
     },
     "execution_count": 5,
     "metadata": {},
     "output_type": "execute_result"
    }
   ],
   "source": [
    "ds[1]"
   ]
  },
  {
   "cell_type": "code",
   "execution_count": 6,
   "metadata": {
    "ExecuteTime": {
     "end_time": "2019-04-18T14:09:13.267799Z",
     "start_time": "2019-04-18T14:09:13.251524Z"
    }
   },
   "outputs": [],
   "source": [
    "X = ds.get_multinomial_array()"
   ]
  },
  {
   "cell_type": "code",
   "execution_count": 7,
   "metadata": {
    "ExecuteTime": {
     "end_time": "2019-04-18T14:09:14.089591Z",
     "start_time": "2019-04-18T14:09:14.083488Z"
    }
   },
   "outputs": [
    {
     "data": {
      "text/plain": [
       "array([[ 2,  2,  6,  6, 13],\n",
       "       [ 2,  1,  6,  8, 15],\n",
       "       [ 2,  3,  5,  9, 12],\n",
       "       [ 3,  0,  2,  8, 17],\n",
       "       [ 1,  4,  4,  7, 11],\n",
       "       [ 3,  1,  3,  4, 11],\n",
       "       [ 1,  0,  5,  5, 19],\n",
       "       [ 3,  3,  3,  7, 13],\n",
       "       [ 1,  1,  0,  8, 19],\n",
       "       [24,  1,  1,  3,  0]])"
      ]
     },
     "execution_count": 7,
     "metadata": {},
     "output_type": "execute_result"
    }
   ],
   "source": [
    "X[:10]"
   ]
  },
  {
   "cell_type": "code",
   "execution_count": null,
   "metadata": {},
   "outputs": [],
   "source": []
  }
 ],
 "metadata": {
  "kernelspec": {
   "display_name": "metric_py3",
   "language": "python",
   "name": "metric_py3"
  },
  "toc": {
   "base_numbering": 1,
   "nav_menu": {},
   "number_sections": true,
   "sideBar": true,
   "skip_h1_title": false,
   "title_cell": "Table of Contents",
   "title_sidebar": "Contents",
   "toc_cell": false,
   "toc_position": {},
   "toc_section_display": true,
   "toc_window_display": false
  },
  "varInspector": {
   "cols": {
    "lenName": 16,
    "lenType": 16,
    "lenVar": 40
   },
   "kernels_config": {
    "python": {
     "delete_cmd_postfix": "",
     "delete_cmd_prefix": "del ",
     "library": "var_list.py",
     "varRefreshCmd": "print(var_dic_list())"
    },
    "r": {
     "delete_cmd_postfix": ") ",
     "delete_cmd_prefix": "rm(",
     "library": "var_list.r",
     "varRefreshCmd": "cat(var_dic_list()) "
    }
   },
   "types_to_exclude": [
    "module",
    "function",
    "builtin_function_or_method",
    "instance",
    "_Feature"
   ],
   "window_display": false
  }
 },
 "nbformat": 4,
 "nbformat_minor": 2
}
