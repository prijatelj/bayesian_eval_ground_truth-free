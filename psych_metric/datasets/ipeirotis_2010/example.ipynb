{
 "cells": [
  {
   "cell_type": "code",
   "execution_count": 1,
   "metadata": {
    "ExecuteTime": {
     "end_time": "2019-03-31T17:00:05.141551Z",
     "start_time": "2019-03-31T17:00:04.593978Z"
    }
   },
   "outputs": [],
   "source": [
    "from psych_metric.datasets.snow2008.dataset import Snow2008"
   ]
  },
  {
   "cell_type": "code",
   "execution_count": 2,
   "metadata": {
    "ExecuteTime": {
     "end_time": "2019-03-31T17:00:05.158322Z",
     "start_time": "2019-03-31T17:00:05.145084Z"
    }
   },
   "outputs": [],
   "source": [
    "ds = Snow2008(dataset='anger')"
   ]
  },
  {
   "cell_type": "code",
   "execution_count": 3,
   "metadata": {
    "ExecuteTime": {
     "end_time": "2019-03-31T17:00:05.166913Z",
     "start_time": "2019-03-31T17:00:05.160405Z"
    }
   },
   "outputs": [
    {
     "name": "stdout",
     "output_type": "stream",
     "text": [
      "{'amt_annotation_ids': '6YGZG117Y18TYYYVYYZZKSA0RSZD235RTEMFMA3Z', 'amt_worker_ids': 'A1AVJRFM6L0RN8', 'orig_id': 594, 'response': 25, 'gold': 37}\n",
      "{'amt_annotation_ids': '6YGZG117Y18TYYYVYYZZGWPTRNMNZYM8NJ4AQG1Z', 'amt_worker_ids': 'ADAGUJNWMEPT6', 'orig_id': 594, 'response': 80, 'gold': 37}\n",
      "{'amt_annotation_ids': '6YGZG117Y18TYYYVYYZZKJ2ZTRYE1W0ZVJWF0TC0', 'amt_worker_ids': 'A1LY3NJTYW9TFF', 'orig_id': 594, 'response': 5, 'gold': 37}\n",
      "{'amt_annotation_ids': '6YGZG117Y18TYYYVYYZZQZ8Y2ZZKMJH8KJY6G020', 'amt_worker_ids': 'A14WWG6NKBDWGP', 'orig_id': 594, 'response': 30, 'gold': 37}\n",
      "{'amt_annotation_ids': '6YGZG117Y18TYYYVYYZZJW5ZW9R40YCCJ80X2YF0', 'amt_worker_ids': 'A1VYRD3HO2WDUN', 'orig_id': 594, 'response': 20, 'gold': 37}\n"
     ]
    }
   ],
   "source": [
    "for i in range(5):\n",
    "    print(ds[i])"
   ]
  },
  {
   "cell_type": "code",
   "execution_count": 4,
   "metadata": {
    "ExecuteTime": {
     "end_time": "2019-03-31T17:00:05.189899Z",
     "start_time": "2019-03-31T17:00:05.170245Z"
    }
   },
   "outputs": [
    {
     "data": {
      "text/html": [
       "<div>\n",
       "<style scoped>\n",
       "    .dataframe tbody tr th:only-of-type {\n",
       "        vertical-align: middle;\n",
       "    }\n",
       "\n",
       "    .dataframe tbody tr th {\n",
       "        vertical-align: top;\n",
       "    }\n",
       "\n",
       "    .dataframe thead th {\n",
       "        text-align: right;\n",
       "    }\n",
       "</style>\n",
       "<table border=\"1\" class=\"dataframe\">\n",
       "  <thead>\n",
       "    <tr style=\"text-align: right;\">\n",
       "      <th></th>\n",
       "      <th>amt_annotation_ids</th>\n",
       "      <th>amt_worker_ids</th>\n",
       "      <th>orig_id</th>\n",
       "      <th>response</th>\n",
       "      <th>gold</th>\n",
       "    </tr>\n",
       "  </thead>\n",
       "  <tbody>\n",
       "    <tr>\n",
       "      <th>0</th>\n",
       "      <td>6YGZG117Y18TYYYVYYZZKSA0RSZD235RTEMFMA3Z</td>\n",
       "      <td>A1AVJRFM6L0RN8</td>\n",
       "      <td>594</td>\n",
       "      <td>25</td>\n",
       "      <td>37</td>\n",
       "    </tr>\n",
       "    <tr>\n",
       "      <th>1</th>\n",
       "      <td>6YGZG117Y18TYYYVYYZZGWPTRNMNZYM8NJ4AQG1Z</td>\n",
       "      <td>ADAGUJNWMEPT6</td>\n",
       "      <td>594</td>\n",
       "      <td>80</td>\n",
       "      <td>37</td>\n",
       "    </tr>\n",
       "    <tr>\n",
       "      <th>2</th>\n",
       "      <td>6YGZG117Y18TYYYVYYZZKJ2ZTRYE1W0ZVJWF0TC0</td>\n",
       "      <td>A1LY3NJTYW9TFF</td>\n",
       "      <td>594</td>\n",
       "      <td>5</td>\n",
       "      <td>37</td>\n",
       "    </tr>\n",
       "    <tr>\n",
       "      <th>3</th>\n",
       "      <td>6YGZG117Y18TYYYVYYZZQZ8Y2ZZKMJH8KJY6G020</td>\n",
       "      <td>A14WWG6NKBDWGP</td>\n",
       "      <td>594</td>\n",
       "      <td>30</td>\n",
       "      <td>37</td>\n",
       "    </tr>\n",
       "    <tr>\n",
       "      <th>4</th>\n",
       "      <td>6YGZG117Y18TYYYVYYZZJW5ZW9R40YCCJ80X2YF0</td>\n",
       "      <td>A1VYRD3HO2WDUN</td>\n",
       "      <td>594</td>\n",
       "      <td>20</td>\n",
       "      <td>37</td>\n",
       "    </tr>\n",
       "  </tbody>\n",
       "</table>\n",
       "</div>"
      ],
      "text/plain": [
       "                         amt_annotation_ids  amt_worker_ids  orig_id  \\\n",
       "0  6YGZG117Y18TYYYVYYZZKSA0RSZD235RTEMFMA3Z  A1AVJRFM6L0RN8      594   \n",
       "1  6YGZG117Y18TYYYVYYZZGWPTRNMNZYM8NJ4AQG1Z   ADAGUJNWMEPT6      594   \n",
       "2  6YGZG117Y18TYYYVYYZZKJ2ZTRYE1W0ZVJWF0TC0  A1LY3NJTYW9TFF      594   \n",
       "3  6YGZG117Y18TYYYVYYZZQZ8Y2ZZKMJH8KJY6G020  A14WWG6NKBDWGP      594   \n",
       "4  6YGZG117Y18TYYYVYYZZJW5ZW9R40YCCJ80X2YF0  A1VYRD3HO2WDUN      594   \n",
       "\n",
       "   response  gold  \n",
       "0        25    37  \n",
       "1        80    37  \n",
       "2         5    37  \n",
       "3        30    37  \n",
       "4        20    37  "
      ]
     },
     "execution_count": 4,
     "metadata": {},
     "output_type": "execute_result"
    }
   ],
   "source": [
    "ds.df.head(5)"
   ]
  }
 ],
 "metadata": {
  "kernelspec": {
   "display_name": "metric_py3",
   "language": "python",
   "name": "metric_py3"
  },
  "language_info": {
   "codemirror_mode": {
    "name": "ipython",
    "version": 3
   },
   "file_extension": ".py",
   "mimetype": "text/x-python",
   "name": "python",
   "nbconvert_exporter": "python",
   "pygments_lexer": "ipython3",
   "version": "3.6.8"
  },
  "toc": {
   "nav_menu": {},
   "number_sections": true,
   "sideBar": true,
   "skip_h1_title": false,
   "title_cell": "Table of Contents",
   "title_sidebar": "Contents",
   "toc_cell": false,
   "toc_position": {},
   "toc_section_display": true,
   "toc_window_display": false
  },
  "varInspector": {
   "cols": {
    "lenName": 16,
    "lenType": 16,
    "lenVar": 40
   },
   "kernels_config": {
    "python": {
     "delete_cmd_postfix": "",
     "delete_cmd_prefix": "del ",
     "library": "var_list.py",
     "varRefreshCmd": "print(var_dic_list())"
    },
    "r": {
     "delete_cmd_postfix": ") ",
     "delete_cmd_prefix": "rm(",
     "library": "var_list.r",
     "varRefreshCmd": "cat(var_dic_list()) "
    }
   },
   "types_to_exclude": [
    "module",
    "function",
    "builtin_function_or_method",
    "instance",
    "_Feature"
   ],
   "window_display": false
  }
 },
 "nbformat": 4,
 "nbformat_minor": 2
}
