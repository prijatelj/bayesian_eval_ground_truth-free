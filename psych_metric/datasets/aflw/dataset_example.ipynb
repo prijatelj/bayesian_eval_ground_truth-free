{
 "cells": [
  {
   "cell_type": "code",
   "execution_count": 1,
   "metadata": {
    "ExecuteTime": {
     "end_time": "2019-03-27T21:31:26.592736Z",
     "start_time": "2019-03-27T21:31:26.078595Z"
    }
   },
   "outputs": [],
   "source": [
    "import matplotlib.pyplot as plt\n",
    "import numpy as np\n",
    "from tqdm import tqdm_notebook as tqdm\n",
    "\n",
    "from psych_metric.datasets.aflw.dataset import FirstImpressionsSparse, FirstImpressionsDense"
   ]
  },
  {
   "cell_type": "code",
   "execution_count": 2,
   "metadata": {
    "ExecuteTime": {
     "end_time": "2019-03-27T21:31:45.191389Z",
     "start_time": "2019-03-27T21:31:43.628959Z"
    }
   },
   "outputs": [
    {
     "data": {
      "text/html": [
       "<div>\n",
       "<style scoped>\n",
       "    .dataframe tbody tr th:only-of-type {\n",
       "        vertical-align: middle;\n",
       "    }\n",
       "\n",
       "    .dataframe tbody tr th {\n",
       "        vertical-align: top;\n",
       "    }\n",
       "\n",
       "    .dataframe thead th {\n",
       "        text-align: right;\n",
       "    }\n",
       "</style>\n",
       "<table border=\"1\" class=\"dataframe\">\n",
       "  <thead>\n",
       "    <tr style=\"text-align: right;\">\n",
       "      <th></th>\n",
       "      <th>face_id</th>\n",
       "      <th>file_id</th>\n",
       "      <th>x</th>\n",
       "      <th>y</th>\n",
       "      <th>w</th>\n",
       "      <th>h</th>\n",
       "      <th>ex</th>\n",
       "      <th>ey</th>\n",
       "      <th>ra</th>\n",
       "      <th>rb</th>\n",
       "      <th>...</th>\n",
       "      <th>IQ_raw</th>\n",
       "      <th>Trustworthiness_num</th>\n",
       "      <th>Dominance_num</th>\n",
       "      <th>Age_num</th>\n",
       "      <th>IQ_num</th>\n",
       "      <th>split</th>\n",
       "      <th>Trustworthiness_hist</th>\n",
       "      <th>Dominance_hist</th>\n",
       "      <th>Age_hist</th>\n",
       "      <th>IQ_hist</th>\n",
       "    </tr>\n",
       "  </thead>\n",
       "  <tbody>\n",
       "    <tr>\n",
       "      <th>17799</th>\n",
       "      <td>58221</td>\n",
       "      <td>image11934.jpg</td>\n",
       "      <td>271.0</td>\n",
       "      <td>63.0</td>\n",
       "      <td>34.0</td>\n",
       "      <td>34.0</td>\n",
       "      <td>288.761597</td>\n",
       "      <td>76.073875</td>\n",
       "      <td>20.300640</td>\n",
       "      <td>14.406905</td>\n",
       "      <td>...</td>\n",
       "      <td>[3, 4, 6, 6, 6, 7, 4, 4, 6, 5, 5]</td>\n",
       "      <td>24</td>\n",
       "      <td>21</td>\n",
       "      <td>20</td>\n",
       "      <td>11</td>\n",
       "      <td>test</td>\n",
       "      <td>[3, 4, 5, 7, 3, 2, 0]</td>\n",
       "      <td>[0, 1, 2, 3, 6, 3, 6]</td>\n",
       "      <td>[0, 0, 0, 2, 9, 9, 0]</td>\n",
       "      <td>[0, 0, 1, 3, 2, 4, 1]</td>\n",
       "    </tr>\n",
       "    <tr>\n",
       "      <th>11660</th>\n",
       "      <td>51624</td>\n",
       "      <td>image42072.jpg</td>\n",
       "      <td>712.0</td>\n",
       "      <td>677.0</td>\n",
       "      <td>1474.0</td>\n",
       "      <td>1474.0</td>\n",
       "      <td>1628.545044</td>\n",
       "      <td>1188.302246</td>\n",
       "      <td>837.713501</td>\n",
       "      <td>594.506348</td>\n",
       "      <td>...</td>\n",
       "      <td>[5, 4, 7, 4, 6, 4, 4, 4, 4, 1, 2, 5, 6, 2, 5, 4]</td>\n",
       "      <td>22</td>\n",
       "      <td>31</td>\n",
       "      <td>16</td>\n",
       "      <td>16</td>\n",
       "      <td>test</td>\n",
       "      <td>[3, 2, 0, 8, 2, 4, 3]</td>\n",
       "      <td>[6, 9, 5, 4, 2, 5, 0]</td>\n",
       "      <td>[5, 10, 1, 0, 0, 0, 0]</td>\n",
       "      <td>[1, 2, 0, 7, 3, 2, 1]</td>\n",
       "    </tr>\n",
       "  </tbody>\n",
       "</table>\n",
       "<p>2 rows × 36 columns</p>\n",
       "</div>"
      ],
      "text/plain": [
       "       face_id         file_id      x      y       w       h           ex  \\\n",
       "17799    58221  image11934.jpg  271.0   63.0    34.0    34.0   288.761597   \n",
       "11660    51624  image42072.jpg  712.0  677.0  1474.0  1474.0  1628.545044   \n",
       "\n",
       "                ey          ra          rb  ...  \\\n",
       "17799    76.073875   20.300640   14.406905  ...   \n",
       "11660  1188.302246  837.713501  594.506348  ...   \n",
       "\n",
       "                                                 IQ_raw  Trustworthiness_num  \\\n",
       "17799                 [3, 4, 6, 6, 6, 7, 4, 4, 6, 5, 5]                   24   \n",
       "11660  [5, 4, 7, 4, 6, 4, 4, 4, 4, 1, 2, 5, 6, 2, 5, 4]                   22   \n",
       "\n",
       "       Dominance_num  Age_num  IQ_num  split   Trustworthiness_hist  \\\n",
       "17799             21       20      11   test  [3, 4, 5, 7, 3, 2, 0]   \n",
       "11660             31       16      16   test  [3, 2, 0, 8, 2, 4, 3]   \n",
       "\n",
       "              Dominance_hist                Age_hist                IQ_hist  \n",
       "17799  [0, 1, 2, 3, 6, 3, 6]   [0, 0, 0, 2, 9, 9, 0]  [0, 0, 1, 3, 2, 4, 1]  \n",
       "11660  [6, 9, 5, 4, 2, 5, 0]  [5, 10, 1, 0, 0, 0, 0]  [1, 2, 0, 7, 3, 2, 1]  \n",
       "\n",
       "[2 rows x 36 columns]"
      ]
     },
     "execution_count": 2,
     "metadata": {},
     "output_type": "execute_result"
    }
   ],
   "source": [
    "ds = FirstImpressionsDense(stage='test', augment=False, numpy=False)\n",
    "# print('Dataset Size: {}'.format(len(ds)))\n",
    "# for i in range(2):\n",
    "#     r = ds[i]\n",
    "#     ds.display(i)\n",
    "#     plt.show()\n",
    "ds.df.head(2)"
   ]
  },
  {
   "cell_type": "code",
   "execution_count": 3,
   "metadata": {},
   "outputs": [
    {
     "data": {
      "text/html": [
       "<div>\n",
       "<style scoped>\n",
       "    .dataframe tbody tr th:only-of-type {\n",
       "        vertical-align: middle;\n",
       "    }\n",
       "\n",
       "    .dataframe tbody tr th {\n",
       "        vertical-align: top;\n",
       "    }\n",
       "\n",
       "    .dataframe thead th {\n",
       "        text-align: right;\n",
       "    }\n",
       "</style>\n",
       "<table border=\"1\" class=\"dataframe\">\n",
       "  <thead>\n",
       "    <tr style=\"text-align: right;\">\n",
       "      <th></th>\n",
       "      <th>Unnamed: 0</th>\n",
       "      <th>sitting_id</th>\n",
       "      <th>trial</th>\n",
       "      <th>duration</th>\n",
       "      <th>start_time</th>\n",
       "      <th>rt</th>\n",
       "      <th>src</th>\n",
       "      <th>type</th>\n",
       "      <th>rating</th>\n",
       "      <th>response</th>\n",
       "      <th>norm_response</th>\n",
       "      <th>diff</th>\n",
       "    </tr>\n",
       "  </thead>\n",
       "  <tbody>\n",
       "    <tr>\n",
       "      <th>0</th>\n",
       "      <td>0</td>\n",
       "      <td>619156</td>\n",
       "      <td>1</td>\n",
       "      <td>244</td>\n",
       "      <td>2014-05-01 09:57:09</td>\n",
       "      <td>1751</td>\n",
       "      <td>images/practice/im1.png</td>\n",
       "      <td>trustworthy</td>\n",
       "      <td>0.5</td>\n",
       "      <td>4</td>\n",
       "      <td>0.500000</td>\n",
       "      <td>0.000000</td>\n",
       "    </tr>\n",
       "    <tr>\n",
       "      <th>1</th>\n",
       "      <td>2</td>\n",
       "      <td>619156</td>\n",
       "      <td>3</td>\n",
       "      <td>244</td>\n",
       "      <td>2014-05-01 09:57:09</td>\n",
       "      <td>1120</td>\n",
       "      <td>images/practice/im3.png</td>\n",
       "      <td>trustworthy</td>\n",
       "      <td>0.5</td>\n",
       "      <td>5</td>\n",
       "      <td>0.666667</td>\n",
       "      <td>-0.166667</td>\n",
       "    </tr>\n",
       "  </tbody>\n",
       "</table>\n",
       "</div>"
      ],
      "text/plain": [
       "   Unnamed: 0  sitting_id  trial  duration           start_time    rt  \\\n",
       "0           0      619156      1       244  2014-05-01 09:57:09  1751   \n",
       "1           2      619156      3       244  2014-05-01 09:57:09  1120   \n",
       "\n",
       "                       src         type  rating  response  norm_response  \\\n",
       "0  images/practice/im1.png  trustworthy     0.5         4       0.500000   \n",
       "1  images/practice/im3.png  trustworthy     0.5         5       0.666667   \n",
       "\n",
       "       diff  \n",
       "0  0.000000  \n",
       "1 -0.166667  "
      ]
     },
     "execution_count": 3,
     "metadata": {},
     "output_type": "execute_result"
    }
   ],
   "source": [
    "ds = FirstImpressionsSparse(dataset='trustworthiness')\n",
    "ds.df.head(2)"
   ]
  },
  {
   "cell_type": "code",
   "execution_count": null,
   "metadata": {},
   "outputs": [],
   "source": []
  }
 ],
 "metadata": {
  "kernelspec": {
   "display_name": "metric_py3",
   "language": "python",
   "name": "metric_py3"
  },
  "language_info": {
   "codemirror_mode": {
    "name": "ipython",
    "version": 3
   },
   "file_extension": ".py",
   "mimetype": "text/x-python",
   "name": "python",
   "nbconvert_exporter": "python",
   "pygments_lexer": "ipython3",
   "version": "3.6.8"
  },
  "toc": {
   "base_numbering": 1,
   "nav_menu": {},
   "number_sections": true,
   "sideBar": true,
   "skip_h1_title": false,
   "title_cell": "Table of Contents",
   "title_sidebar": "Contents",
   "toc_cell": false,
   "toc_position": {},
   "toc_section_display": true,
   "toc_window_display": false
  },
  "varInspector": {
   "cols": {
    "lenName": 16,
    "lenType": 16,
    "lenVar": 40
   },
   "kernels_config": {
    "python": {
     "delete_cmd_postfix": "",
     "delete_cmd_prefix": "del ",
     "library": "var_list.py",
     "varRefreshCmd": "print(var_dic_list())"
    },
    "r": {
     "delete_cmd_postfix": ") ",
     "delete_cmd_prefix": "rm(",
     "library": "var_list.r",
     "varRefreshCmd": "cat(var_dic_list()) "
    }
   },
   "types_to_exclude": [
    "module",
    "function",
    "builtin_function_or_method",
    "instance",
    "_Feature"
   ],
   "window_display": false
  }
 },
 "nbformat": 4,
 "nbformat_minor": 2
}
