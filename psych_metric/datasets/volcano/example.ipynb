{
 "cells": [
  {
   "cell_type": "code",
   "execution_count": 1,
   "metadata": {
    "ExecuteTime": {
     "end_time": "2019-04-29T15:08:04.882649Z",
     "start_time": "2019-04-29T15:08:04.324661Z"
    }
   },
   "outputs": [],
   "source": [
    "import numpy as np\n",
    "import matplotlib.pyplot as plt\n",
    "from scipy.stats import multinomial\n",
    "import seaborn as sns"
   ]
  },
  {
   "cell_type": "markdown",
   "metadata": {},
   "source": [
    "# Single Step Multinomial"
   ]
  },
  {
   "cell_type": "code",
   "execution_count": 2,
   "metadata": {
    "ExecuteTime": {
     "end_time": "2019-04-29T15:08:05.083395Z",
     "start_time": "2019-04-29T15:08:04.884181Z"
    }
   },
   "outputs": [],
   "source": [
    "from psych_metric.datasets.volcano.dataset import SimulatedVolcanoMultinomial"
   ]
  },
  {
   "cell_type": "code",
   "execution_count": 3,
   "metadata": {
    "ExecuteTime": {
     "end_time": "2019-04-29T15:08:05.107381Z",
     "start_time": "2019-04-29T15:08:05.085306Z"
    }
   },
   "outputs": [],
   "source": [
    "posterior = np.array([\n",
    "    [0.8, 0.1, 0.1],\n",
    "    [0.2, 0.1, 0.7],\n",
    "    [0.1, 0.8, 0.1],\n",
    "])\n",
    "prior = np.array([0.5, 0.3, 0.2])\n",
    "\n",
    "ds = SimulatedVolcanoMultinomial(\n",
    "    posterior=posterior,\n",
    "    prior=prior,\n",
    "    n_annos=[15,30],\n",
    "    N=6000\n",
    ")"
   ]
  },
  {
   "cell_type": "code",
   "execution_count": 4,
   "metadata": {
    "ExecuteTime": {
     "end_time": "2019-04-29T15:08:05.116595Z",
     "start_time": "2019-04-29T15:08:05.109072Z"
    }
   },
   "outputs": [
    {
     "name": "stdout",
     "output_type": "stream",
     "text": [
      "{'annotations': array([19,  4,  2]), 'n_annotators': 25, 'label': 0}\n",
      "{'annotations': array([6, 6, 4]), 'n_annotators': 16, 'label': 0}\n",
      "{'annotations': array([20,  4,  3]), 'n_annotators': 27, 'label': 0}\n",
      "{'annotations': array([13,  1,  2]), 'n_annotators': 16, 'label': 0}\n",
      "{'annotations': array([20,  1,  0]), 'n_annotators': 21, 'label': 0}\n"
     ]
    }
   ],
   "source": [
    "for i in range(5):\n",
    "    print(ds[i])"
   ]
  },
  {
   "cell_type": "code",
   "execution_count": 5,
   "metadata": {
    "ExecuteTime": {
     "end_time": "2019-04-29T15:08:05.134106Z",
     "start_time": "2019-04-29T15:08:05.119532Z"
    }
   },
   "outputs": [
    {
     "data": {
      "text/html": [
       "<div>\n",
       "<style scoped>\n",
       "    .dataframe tbody tr th:only-of-type {\n",
       "        vertical-align: middle;\n",
       "    }\n",
       "\n",
       "    .dataframe tbody tr th {\n",
       "        vertical-align: top;\n",
       "    }\n",
       "\n",
       "    .dataframe thead th {\n",
       "        text-align: right;\n",
       "    }\n",
       "</style>\n",
       "<table border=\"1\" class=\"dataframe\">\n",
       "  <thead>\n",
       "    <tr style=\"text-align: right;\">\n",
       "      <th></th>\n",
       "      <th>annotations</th>\n",
       "      <th>n_annotators</th>\n",
       "      <th>label</th>\n",
       "    </tr>\n",
       "  </thead>\n",
       "  <tbody>\n",
       "    <tr>\n",
       "      <th>0</th>\n",
       "      <td>[19, 4, 2]</td>\n",
       "      <td>25</td>\n",
       "      <td>0</td>\n",
       "    </tr>\n",
       "    <tr>\n",
       "      <th>1</th>\n",
       "      <td>[6, 6, 4]</td>\n",
       "      <td>16</td>\n",
       "      <td>0</td>\n",
       "    </tr>\n",
       "    <tr>\n",
       "      <th>2</th>\n",
       "      <td>[20, 4, 3]</td>\n",
       "      <td>27</td>\n",
       "      <td>0</td>\n",
       "    </tr>\n",
       "    <tr>\n",
       "      <th>3</th>\n",
       "      <td>[13, 1, 2]</td>\n",
       "      <td>16</td>\n",
       "      <td>0</td>\n",
       "    </tr>\n",
       "    <tr>\n",
       "      <th>4</th>\n",
       "      <td>[20, 1, 0]</td>\n",
       "      <td>21</td>\n",
       "      <td>0</td>\n",
       "    </tr>\n",
       "  </tbody>\n",
       "</table>\n",
       "</div>"
      ],
      "text/plain": [
       "  annotations  n_annotators  label\n",
       "0  [19, 4, 2]            25      0\n",
       "1   [6, 6, 4]            16      0\n",
       "2  [20, 4, 3]            27      0\n",
       "3  [13, 1, 2]            16      0\n",
       "4  [20, 1, 0]            21      0"
      ]
     },
     "execution_count": 5,
     "metadata": {},
     "output_type": "execute_result"
    }
   ],
   "source": [
    "ds.df.head(5)"
   ]
  },
  {
   "cell_type": "code",
   "execution_count": 6,
   "metadata": {
    "ExecuteTime": {
     "end_time": "2019-04-29T15:08:05.268910Z",
     "start_time": "2019-04-29T15:08:05.135106Z"
    }
   },
   "outputs": [
    {
     "data": {
      "image/png": "[encoded data removed]",
      "text/plain": [
       "<Figure size 216x216 with 1 Axes>"
      ]
     },
     "metadata": {
      "needs_background": "light"
     },
     "output_type": "display_data"
    }
   ],
   "source": [
    "ds.display(0)\n",
    "plt.show()"
   ]
  },
  {
   "cell_type": "markdown",
   "metadata": {},
   "source": [
    "# Temporal Multinomial"
   ]
  },
  {
   "cell_type": "code",
   "execution_count": 7,
   "metadata": {
    "ExecuteTime": {
     "end_time": "2019-04-29T15:08:05.273209Z",
     "start_time": "2019-04-29T15:08:05.270591Z"
    }
   },
   "outputs": [],
   "source": [
    "from psych_metric.datasets.volcano.dataset import SimulatedVolcanoMultinomialTemporal"
   ]
  },
  {
   "cell_type": "code",
   "execution_count": 8,
   "metadata": {
    "ExecuteTime": {
     "end_time": "2019-04-29T15:08:05.311715Z",
     "start_time": "2019-04-29T15:08:05.276221Z"
    }
   },
   "outputs": [
    {
     "data": {
      "application/vnd.jupyter.widget-view+json": {
       "model_id": "354371e9e0be42e18ab3b25c3a48fea5",
       "version_major": 2,
       "version_minor": 0
      },
      "text/plain": [
       "HBox(children=(IntProgress(value=0, max=10), HTML(value='')))"
      ]
     },
     "metadata": {},
     "output_type": "display_data"
    },
    {
     "name": "stdout",
     "output_type": "stream",
     "text": [
      "\n"
     ]
    }
   ],
   "source": [
    "posterior = np.array([\n",
    "    [0.8, 0.1, 0.1],\n",
    "    [0.2, 0.1, 0.7],\n",
    "    [0.1, 0.8, 0.1],\n",
    "])\n",
    "prior = np.array([0.5, 0.3, 0.2])\n",
    "transitions = np.array([\n",
    "    [0.9, 0.05, 0.05],\n",
    "    [0.05, 0.9, 0.05],\n",
    "    [0.05, 0.05, 0.9],\n",
    "])\n",
    "\n",
    "ds = SimulatedVolcanoMultinomialTemporal(\n",
    "    posterior=posterior,\n",
    "    prior=prior,\n",
    "    transitions=transitions,\n",
    "    n_annos=[15,30],\n",
    "    n_steps=[2,10],\n",
    "    N=10\n",
    ")"
   ]
  },
  {
   "cell_type": "code",
   "execution_count": 9,
   "metadata": {
    "ExecuteTime": {
     "end_time": "2019-04-29T15:08:05.318722Z",
     "start_time": "2019-04-29T15:08:05.314369Z"
    }
   },
   "outputs": [
    {
     "data": {
      "text/plain": [
       "array([[ 2, 20,  2],\n",
       "       [22,  3,  2],\n",
       "       [12,  2,  4],\n",
       "       [18,  4,  5],\n",
       "       [ 1, 14,  3],\n",
       "       [ 3, 16,  1],\n",
       "       [ 0, 21,  2]])"
      ]
     },
     "execution_count": 9,
     "metadata": {},
     "output_type": "execute_result"
    }
   ],
   "source": [
    "ds[0]"
   ]
  },
  {
   "cell_type": "code",
   "execution_count": 10,
   "metadata": {
    "ExecuteTime": {
     "end_time": "2019-04-29T15:08:06.097073Z",
     "start_time": "2019-04-29T15:08:05.320684Z"
    }
   },
   "outputs": [
    {
     "data": {
      "image/png": "[encoded data removed]",
      "text/plain": [
       "<Figure size 1512x216 with 7 Axes>"
      ]
     },
     "metadata": {
      "needs_background": "light"
     },
     "output_type": "display_data"
    }
   ],
   "source": [
    "ds.display(0)\n",
    "plt.show()"
   ]
  },
  {
   "cell_type": "code",
   "execution_count": null,
   "metadata": {},
   "outputs": [],
   "source": []
  }
 ],
 "metadata": {
  "kernelspec": {
   "display_name": "metric_py3",
   "language": "python",
   "name": "metric_py3"
  },
  "language_info": {
   "codemirror_mode": {
    "name": "ipython",
    "version": 3
   },
   "file_extension": ".py",
   "mimetype": "text/x-python",
   "name": "python",
   "nbconvert_exporter": "python",
   "pygments_lexer": "ipython3",
   "version": "3.6.8"
  },
  "toc": {
   "base_numbering": 1,
   "nav_menu": {},
   "number_sections": true,
   "sideBar": true,
   "skip_h1_title": false,
   "title_cell": "Table of Contents",
   "title_sidebar": "Contents",
   "toc_cell": false,
   "toc_position": {},
   "toc_section_display": true,
   "toc_window_display": false
  },
  "varInspector": {
   "cols": {
    "lenName": 16,
    "lenType": 16,
    "lenVar": 40
   },
   "kernels_config": {
    "python": {
     "delete_cmd_postfix": "",
     "delete_cmd_prefix": "del ",
     "library": "var_list.py",
     "varRefreshCmd": "print(var_dic_list())"
    },
    "r": {
     "delete_cmd_postfix": ") ",
     "delete_cmd_prefix": "rm(",
     "library": "var_list.r",
     "varRefreshCmd": "cat(var_dic_list()) "
    }
   },
   "types_to_exclude": [
    "module",
    "function",
    "builtin_function_or_method",
    "instance",
    "_Feature"
   ],
   "window_display": false
  }
 },
 "nbformat": 4,
 "nbformat_minor": 2
}
